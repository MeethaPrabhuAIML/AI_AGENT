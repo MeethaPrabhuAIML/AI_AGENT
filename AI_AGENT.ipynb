{
  "nbformat": 4,
  "nbformat_minor": 0,
  "metadata": {
    "colab": {
      "provenance": []
    },
    "kernelspec": {
      "name": "python3",
      "display_name": "Python 3"
    },
    "language_info": {
      "name": "python"
    }
  },
  "cells": [
    {
      "cell_type": "code",
      "source": [
        "# Install required packages\n",
        "!pip install -q transformers gradio torch\n",
        "\n",
        "# Imports\n",
        "from transformers import pipeline\n",
        "import gradio as gr\n",
        "\n",
        "# Load model\n",
        "generator = pipeline(\"text2text-generation\", model=\"google/flan-t5-base\")\n",
        "\n",
        "# Define recipe generation function\n",
        "def generate_recipe(ingredients):\n",
        "    prompt = (\n",
        "        f\"You are a cooking assistant. Suggest a clear, short recipe using only these ingredients: \"\n",
        "        f\"{ingredients}. Include a recipe name and numbered steps.\"\n",
        "    )\n",
        "    result = generator(prompt, max_length=200, do_sample=True)[0][\"generated_text\"]\n",
        "    return result\n",
        "\n",
        "# Gradio UI\n",
        "gr.Interface(\n",
        "    fn=generate_recipe,\n",
        "    inputs=gr.Textbox(label=\"Ingredients (comma-separated)\", placeholder=\"e.g. tomato, egg, onion\"),\n",
        "    outputs=\"text\",\n",
        "    title=\"🥘 AI Recipe Generator (FLAN-T5)\",\n",
        "    description=\"Enter your ingredients and get a simple recipe. No API key needed!\",\n",
        ").launch(share=True)\n"
      ],
      "metadata": {
        "colab": {
          "base_uri": "https://localhost:8080/",
          "height": 632
        },
        "id": "4rzkIR_NBigt",
        "outputId": "61028909-c915-4617-b74e-af4d6f4c0b8c"
      },
      "execution_count": 47,
      "outputs": [
        {
          "output_type": "stream",
          "name": "stderr",
          "text": [
            "Device set to use cpu\n"
          ]
        },
        {
          "output_type": "stream",
          "name": "stdout",
          "text": [
            "Colab notebook detected. To show errors in colab notebook, set debug=True in launch()\n",
            "* Running on public URL: https://a97ade7a995e89f04b.gradio.live\n",
            "\n",
            "This share link expires in 1 week. For free permanent hosting and GPU upgrades, run `gradio deploy` from the terminal in the working directory to deploy to Hugging Face Spaces (https://huggingface.co/spaces)\n"
          ]
        },
        {
          "output_type": "display_data",
          "data": {
            "text/plain": [
              "<IPython.core.display.HTML object>"
            ],
            "text/html": [
              "<div><iframe src=\"https://a97ade7a995e89f04b.gradio.live\" width=\"100%\" height=\"500\" allow=\"autoplay; camera; microphone; clipboard-read; clipboard-write;\" frameborder=\"0\" allowfullscreen></iframe></div>"
            ]
          },
          "metadata": {}
        },
        {
          "output_type": "execute_result",
          "data": {
            "text/plain": []
          },
          "metadata": {},
          "execution_count": 47
        }
      ]
    },
    {
      "cell_type": "code",
      "source": [],
      "metadata": {
        "id": "wZIl6avuExhD"
      },
      "execution_count": null,
      "outputs": []
    }
  ]
}